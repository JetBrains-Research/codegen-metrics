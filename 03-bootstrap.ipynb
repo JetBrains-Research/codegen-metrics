{
 "cells": [
  {
   "cell_type": "code",
   "execution_count": 1,
   "metadata": {
    "collapsed": true
   },
   "outputs": [],
   "source": [
    "%load_ext autoreload\n",
    "%autoreload 2"
   ]
  },
  {
   "cell_type": "code",
   "execution_count": 2,
   "outputs": [],
   "source": [
    "import json\n",
    "from collections import Counter, defaultdict\n",
    "from tqdm.auto import tqdm\n",
    "import numpy as np\n",
    "import random\n",
    "\n",
    "from metrics_evaluation.analysis import bootstrap"
   ],
   "metadata": {
    "collapsed": false
   }
  },
  {
   "cell_type": "code",
   "execution_count": 3,
   "outputs": [],
   "source": [
    "np.random.seed(42)\n",
    "random.seed(42)"
   ],
   "metadata": {
    "collapsed": false
   }
  },
  {
   "cell_type": "code",
   "execution_count": 4,
   "outputs": [],
   "source": [
    "def synthesize_models(model_dictionary, models, metrics_list):\n",
    "    percentage_changes = [1, 3, 5, 10, 15, 20, 25, 30]\n",
    "    improvement_flag = [True, False]\n",
    "\n",
    "    for base_model in tqdm(models):\n",
    "        other_models = [model for model in models if model != base_model]\n",
    "        for flag in improvement_flag:\n",
    "            for percentage in percentage_changes:\n",
    "                bootstrap.synthesize_model(\n",
    "                    model_dictionary,\n",
    "                    base_model,\n",
    "                    other_models,\n",
    "                    percentage,\n",
    "                    metrics_list,\n",
    "                    improve = flag\n",
    "                )"
   ],
   "metadata": {
    "collapsed": false
   }
  },
  {
   "cell_type": "code",
   "execution_count": 5,
   "outputs": [],
   "source": [
    "def remove_redundant_models(model_dictionary, metrics_list, model):\n",
    "    for entry in model_dictionary:\n",
    "        del entry[model]\n",
    "        for metric in metrics_list:\n",
    "            del entry[f\"{metric}-{model}\"]\n",
    "\n",
    "def clean_models(model_dictionary, metrics_list):\n",
    "    all_models_list = []\n",
    "    candidates = model_dictionary[0].keys()\n",
    "    for candidate in candidates:\n",
    "        metric = candidate.split('-')[0]\n",
    "        if metric not in metrics_list:\n",
    "            all_models_list.append(candidate)\n",
    "\n",
    "    if 'intent' in all_models_list:\n",
    "        all_models_list.remove('intent')\n",
    "    if 'snippet' in all_models_list:\n",
    "        all_models_list.remove('snippet')\n",
    "\n",
    "    print(all_models_list)\n",
    "\n",
    "    models_to_remove = set()\n",
    "    for i, model_1 in enumerate(all_models_list):\n",
    "        for model_2 in all_models_list[:i]:\n",
    "            equivalent_models = True\n",
    "            for item in model_dictionary:\n",
    "                if not equivalent_models:\n",
    "                    break\n",
    "                if item[model_1] != item[model_2]:\n",
    "                    equivalent_models = False\n",
    "\n",
    "            if equivalent_models:\n",
    "                models_to_remove.add(model_2)\n",
    "                print(model_2)\n",
    "\n",
    "    for model in models_to_remove:\n",
    "        all_models_list.remove(model)\n",
    "        remove_redundant_models(model_dictionary, metrics_list, model)\n",
    "\n",
    "    return all_models_list"
   ],
   "metadata": {
    "collapsed": false
   }
  },
  {
   "cell_type": "code",
   "execution_count": 6,
   "outputs": [],
   "source": [
    "def run_bootstrap(model_dictionary, metrics_list, all_models_list, models, dataset_name):\n",
    "    model_pairs, model_scores = bootstrap.bootstrap(\n",
    "        model_dictionary,\n",
    "        all_models_list,\n",
    "        metrics_list,\n",
    "        bootstrap_sampling = 500\n",
    "    )\n",
    "    with open(f\"data/to-grade/{dataset_name}-model-pairs.json\", \"w\") as o:\n",
    "        json.dump(model_pairs, o)\n",
    "\n",
    "    with open(f\"data/to-grade/{dataset_name}-model-scores.json\", \"w\") as o:\n",
    "        json.dump(model_scores, o)\n",
    "\n",
    "    for i, model_1 in enumerate(models):\n",
    "        for model_2 in models[:i]:\n",
    "            print(model_1, model_2, model_pairs[model_1][model_2])\n",
    "\n",
    "    return model_scores, model_pairs"
   ],
   "metadata": {
    "collapsed": false
   }
  },
  {
   "cell_type": "code",
   "execution_count": 7,
   "outputs": [],
   "source": [
    "def diff_into_bins(score1, score2):\n",
    "    if abs(score1 - score2) < 2:\n",
    "        return \"0-2\"\n",
    "    elif 2 <= abs(score1 - score2) < 5:\n",
    "        return \"2-5\"\n",
    "    elif 5 <= abs(score1 - score2) < 10:\n",
    "        return \"5-10\"\n",
    "    else:\n",
    "        return \"10-100\"\n",
    "\n",
    "\n",
    "def get_splitting(model_scores, model_pairs, metrics_list, all_models_list, models):\n",
    "    significance_splitting = dict()\n",
    "\n",
    "    bootstrap_metrics = [metric for metric in metrics_list if metric != \"grade\"]\n",
    "\n",
    "    for metric in bootstrap_metrics:\n",
    "        significance_splitting[metric] = dict()\n",
    "        for bucket in [\"0-2\", \"2-5\", \"5-10\", \"10-100\"]:\n",
    "            significance_splitting[metric][bucket] = [0, 0]\n",
    "\n",
    "        for i, model_1 in enumerate(all_models_list):\n",
    "            for model_2 in all_models_list[:i]:\n",
    "                model1_score = model_scores[model_1][metric] * 100\n",
    "                model2_score = model_scores[model_2][metric] * 100\n",
    "\n",
    "                metric_significance = model_pairs[model_1][model_2][metric]\n",
    "                bucket = diff_into_bins(model1_score, model2_score)\n",
    "                if 0.95 > metric_significance > 0.05:\n",
    "                    significance_splitting[metric][bucket][1] += 1\n",
    "                else:\n",
    "                    significance_splitting[metric][bucket][0] += 1\n",
    "\n",
    "    print(\"Significance splitting:\")\n",
    "    print(significance_splitting)\n",
    "    print()\n",
    "\n",
    "    splitting = bootstrap.split_into_bins(\n",
    "        model_pairs,\n",
    "        model_scores,\n",
    "        bootstrap_metrics,\n",
    "        all_models_list\n",
    "    )\n",
    "\n",
    "    bins_distribution = {}\n",
    "    for metric in bootstrap_metrics:\n",
    "        bins_distribution[metric] = defaultdict(Counter)\n",
    "        for value, grade in splitting[metric]:\n",
    "            if value != 'NS':\n",
    "                value = int(value * 100)\n",
    "            bins_distribution[metric][value][grade] += 1\n",
    "\n",
    "    print(\"Bins distribution:\")\n",
    "    print(bins_distribution)\n",
    "    print()\n",
    "\n",
    "    \"\"\"\n",
    "    -1 -- 1st type error: metric says A > B, graders say A < B\n",
    "     0 -- ok: metric agrees with graders\n",
    "     1 -- 1st type error: metric says A > B, graders say A ~= B\n",
    "     2 -- 2nd type error: metric says A ~= B, graders say A != B\n",
    "    \"\"\"\n",
    "    error_types = (-1, 0, 1, 2)\n",
    "\n",
    "    bins_aggregated = dict()\n",
    "    all_bins = [\n",
    "        [0, 1],\n",
    "        list(range(2, 5)),\n",
    "        list(range(5, 10)),\n",
    "        list(range(10, 100))\n",
    "    ]\n",
    "\n",
    "    for metric in bootstrap_metrics:\n",
    "        bins_aggregated[metric] = defaultdict(Counter)\n",
    "        bins_aggregated[metric]['NS'] = bins_distribution[metric]['NS']\n",
    "        for bucket in all_bins:\n",
    "            bucket_name = bucket[0]\n",
    "            for item in bucket:\n",
    "                for error in error_types:\n",
    "                    bins_aggregated[metric][bucket_name][error] += bins_distribution[metric][item][error]\n",
    "\n",
    "    print(\"Bins aggregated:\")\n",
    "    print(bins_aggregated)\n",
    "    print()\n",
    "\n",
    "    print(\"Statistics:\")\n",
    "    for metric in bootstrap_metrics:\n",
    "        num_where_metric_fails = 0\n",
    "        num_all_bootstrap_pairs = 0\n",
    "        for (_, value) in bins_aggregated[metric].items():\n",
    "            for (key1, value1) in value.items():\n",
    "                num_all_bootstrap_pairs += value1\n",
    "                if key1 != 0:\n",
    "                    num_where_metric_fails += value1\n",
    "\n",
    "        print(metric, num_all_bootstrap_pairs, num_where_metric_fails / num_all_bootstrap_pairs)\n",
    "    print()\n",
    "\n",
    "    print(\"Deviations:\")\n",
    "    for model in models:\n",
    "        for metric in metrics_list:\n",
    "            print(model, metric, model_scores[model][metric], - model_scores[model][metric] + model_scores[model][metric+'-low'], - model_scores[model][metric] + model_scores[model][metric+'-high'])\n",
    "\n",
    "    for model in models:\n",
    "        for metric in ['grade']:\n",
    "            print(\n",
    "                model,\n",
    "                metric,\n",
    "                25 * model_scores[model][metric],\n",
    "                25 * (- model_scores[model][metric] + model_scores[model][metric + '-low']),\n",
    "                25 * (- model_scores[model][metric] + model_scores[model][metric + '-high'])\n",
    "            )"
   ],
   "metadata": {
    "collapsed": false
   }
  },
  {
   "cell_type": "code",
   "execution_count": 8,
   "outputs": [],
   "source": [
    "metrics = ['grade', 'rougel', 'codebleu', 'chrf', 'meteor', 'ruby', 'bleu']\n",
    "conala_models = ['baseline', 'tranx-annot', 'best-tranx', 'best-tranx-rerank', 'codex']\n",
    "hs_models = ['gcnn', 'nl2code']"
   ],
   "metadata": {
    "collapsed": false
   }
  },
  {
   "cell_type": "code",
   "execution_count": 9,
   "outputs": [
    {
     "data": {
      "text/plain": "  0%|          | 0/5 [00:00<?, ?it/s]",
      "application/vnd.jupyter.widget-view+json": {
       "version_major": 2,
       "version_minor": 0,
       "model_id": "fcebcdff03a54b1980bc32cca632cc83"
      }
     },
     "metadata": {},
     "output_type": "display_data"
    },
    {
     "name": "stdout",
     "output_type": "stream",
     "text": [
      "Failed to generate enough changed snippets. 23 new snippets are lacking.\n",
      "Failed to generate enough changed snippets. 47 new snippets are lacking.\n",
      "Failed to generate enough changed snippets. 71 new snippets are lacking.\n",
      "Failed to generate enough changed snippets. 4 new snippets are lacking.\n",
      "['baseline', 'tranx-annot', 'best-tranx', 'best-tranx-rerank', 'codex', 'baseline_1_1', 'baseline_3_1', 'baseline_5_1', 'baseline_10_1', 'baseline_15_1', 'baseline_20_1', 'baseline_25_1', 'baseline_30_1', 'baseline_1_0', 'baseline_3_0', 'baseline_5_0', 'baseline_10_0', 'baseline_15_0', 'baseline_20_0', 'baseline_25_0', 'baseline_30_0', 'tranx-annot_1_1', 'tranx-annot_3_1', 'tranx-annot_5_1', 'tranx-annot_10_1', 'tranx-annot_15_1', 'tranx-annot_20_1', 'tranx-annot_25_1', 'tranx-annot_30_1', 'tranx-annot_1_0', 'tranx-annot_3_0', 'tranx-annot_5_0', 'tranx-annot_10_0', 'tranx-annot_15_0', 'tranx-annot_20_0', 'tranx-annot_25_0', 'tranx-annot_30_0', 'best-tranx_1_1', 'best-tranx_3_1', 'best-tranx_5_1', 'best-tranx_10_1', 'best-tranx_15_1', 'best-tranx_20_1', 'best-tranx_25_1', 'best-tranx_30_1', 'best-tranx_1_0', 'best-tranx_3_0', 'best-tranx_5_0', 'best-tranx_10_0', 'best-tranx_15_0', 'best-tranx_20_0', 'best-tranx_25_0', 'best-tranx_30_0', 'best-tranx-rerank_1_1', 'best-tranx-rerank_3_1', 'best-tranx-rerank_5_1', 'best-tranx-rerank_10_1', 'best-tranx-rerank_15_1', 'best-tranx-rerank_20_1', 'best-tranx-rerank_25_1', 'best-tranx-rerank_30_1', 'best-tranx-rerank_1_0', 'best-tranx-rerank_3_0', 'best-tranx-rerank_5_0', 'best-tranx-rerank_10_0', 'best-tranx-rerank_15_0', 'best-tranx-rerank_20_0', 'best-tranx-rerank_25_0', 'best-tranx-rerank_30_0', 'codex_1_1', 'codex_3_1', 'codex_5_1', 'codex_10_1', 'codex_15_1', 'codex_20_1', 'codex_25_1', 'codex_30_1', 'codex_1_0', 'codex_3_0', 'codex_5_0', 'codex_10_0', 'codex_15_0', 'codex_20_0', 'codex_25_0', 'codex_30_0']\n",
      "baseline_15_0\n",
      "baseline_15_0\n",
      "baseline_20_0\n",
      "baseline_15_0\n",
      "baseline_20_0\n",
      "baseline_25_0\n"
     ]
    },
    {
     "name": "stderr",
     "output_type": "stream",
     "text": [
      "100%|██████████| 500/500 [48:49<00:00,  5.86s/it]\n"
     ]
    },
    {
     "name": "stdout",
     "output_type": "stream",
     "text": [
      "tranx-annot baseline {'grade': 1.0, 'rougel': 1.0, 'codebleu': 0.986, 'chrf': 1.0, 'meteor': 1.0, 'ruby': 0.462, 'bleu': 1.0}\n",
      "best-tranx baseline {'grade': 1.0, 'rougel': 1.0, 'codebleu': 1.0, 'chrf': 1.0, 'meteor': 1.0, 'ruby': 0.834, 'bleu': 1.0}\n",
      "best-tranx tranx-annot {'grade': 1.0, 'rougel': 0.994, 'codebleu': 0.894, 'chrf': 1.0, 'meteor': 0.99, 'ruby': 0.918, 'bleu': 0.998}\n",
      "best-tranx-rerank baseline {'grade': 1.0, 'rougel': 1.0, 'codebleu': 0.998, 'chrf': 1.0, 'meteor': 1.0, 'ruby': 0.978, 'bleu': 1.0}\n",
      "best-tranx-rerank tranx-annot {'grade': 1.0, 'rougel': 1.0, 'codebleu': 0.922, 'chrf': 1.0, 'meteor': 1.0, 'ruby': 0.998, 'bleu': 1.0}\n",
      "best-tranx-rerank best-tranx {'grade': 0.998, 'rougel': 0.998, 'codebleu': 0.706, 'chrf': 1.0, 'meteor': 0.996, 'ruby': 0.998, 'bleu': 0.992}\n",
      "codex baseline {'grade': 1.0, 'rougel': 1.0, 'codebleu': 1.0, 'chrf': 1.0, 'meteor': 1.0, 'ruby': 1.0, 'bleu': 1.0}\n",
      "codex tranx-annot {'grade': 1.0, 'rougel': 1.0, 'codebleu': 1.0, 'chrf': 1.0, 'meteor': 1.0, 'ruby': 1.0, 'bleu': 0.996}\n",
      "codex best-tranx {'grade': 1.0, 'rougel': 1.0, 'codebleu': 1.0, 'chrf': 1.0, 'meteor': 0.998, 'ruby': 1.0, 'bleu': 0.854}\n",
      "codex best-tranx-rerank {'grade': 1.0, 'rougel': 1.0, 'codebleu': 1.0, 'chrf': 1.0, 'meteor': 0.95, 'ruby': 1.0, 'bleu': 0.5}\n",
      "Significance splitting:\n",
      "{'rougel': {'0-2': [252, 295], '2-5': [747, 0], '5-10': [1015, 0], '10-100': [1012, 0]}, 'codebleu': {'0-2': [381, 484], '2-5': [899, 2], '5-10': [841, 0], '10-100': [714, 0]}, 'chrf': {'0-2': [249, 218], '2-5': [632, 0], '5-10': [934, 0], '10-100': [1288, 0]}, 'meteor': {'0-2': [190, 331], '2-5': [690, 11], '5-10': [924, 0], '10-100': [1175, 0]}, 'ruby': {'0-2': [223, 452], '2-5': [818, 16], '5-10': [964, 0], '10-100': [848, 0]}, 'bleu': {'0-2': [184, 393], '2-5': [731, 39], '5-10': [901, 0], '10-100': [1073, 0]}}\n",
      "\n",
      "Bins distribution:\n",
      "{'rougel': defaultdict(<class 'collections.Counter'>, {12: Counter({0: 121}), 14: Counter({0: 92}), 2: Counter({0: 233, 1: 19, -1: 18}), 16: Counter({0: 72}), 3: Counter({0: 219, 1: 14, -1: 13}), 1: Counter({0: 158, 1: 8, -1: 7}), 19: Counter({0: 49}), 7: Counter({0: 209, 1: 3}), 4: Counter({0: 206, 1: 19, -1: 6}), 0: Counter({0: 79}), 11: Counter({0: 128}), 13: Counter({0: 110}), 15: Counter({0: 85}), 18: Counter({0: 44}), 9: Counter({0: 165}), 10: Counter({0: 142}), 6: Counter({0: 206, 1: 12}), 5: Counter({0: 214, 1: 20, -1: 3}), 8: Counter({0: 183}), 'NS': Counter({2: 208, 0: 87}), 20: Counter({0: 39}), 17: Counter({0: 48}), 21: Counter({0: 36}), 22: Counter({0: 19}), 23: Counter({0: 22}), 24: Counter({0: 5})}), 'codebleu': defaultdict(<class 'collections.Counter'>, {1: Counter({0: 268, 1: 8, -1: 5}), 3: Counter({0: 291, 1: 15, -1: 14}), 'NS': Counter({2: 389, 0: 97}), 15: Counter({0: 101}), 13: Counter({0: 99}), 12: Counter({0: 117}), 2: Counter({0: 313, -1: 22, 1: 10}), 0: Counter({0: 92, -1: 5, 1: 3}), 14: Counter({0: 102}), 11: Counter({0: 86}), 5: Counter({0: 190, 1: 9, -1: 8}), 9: Counter({0: 123}), 4: Counter({0: 213, -1: 11, 1: 10}), 7: Counter({0: 179, 1: 6}), 8: Counter({0: 138}), 16: Counter({0: 78}), 6: Counter({0: 163, 1: 24, -1: 1}), 17: Counter({0: 34}), 10: Counter({0: 87}), 18: Counter({0: 9}), 19: Counter({0: 1})}), 'chrf': defaultdict(<class 'collections.Counter'>, {10: Counter({0: 164}), 13: Counter({0: 121}), 2: Counter({0: 176, 1: 21, -1: 17}), 15: Counter({0: 106}), 4: Counter({0: 183, 1: 29, -1: 2}), 1: Counter({0: 158, 1: 10, -1: 7}), 25: Counter({0: 26}), 14: Counter({0: 117}), 11: Counter({0: 145}), 'NS': Counter({2: 145, 0: 73}), 24: Counter({0: 16}), 0: Counter({0: 72, 1: 2}), 9: Counter({0: 160}), 12: Counter({0: 141}), 23: Counter({0: 16}), 3: Counter({0: 171, 1: 22, -1: 11}), 7: Counter({0: 188}), 21: Counter({0: 34}), 5: Counter({0: 181, 1: 23}), 8: Counter({0: 178}), 20: Counter({0: 50}), 6: Counter({0: 202, 1: 2}), 18: Counter({0: 61}), 26: Counter({0: 29}), 16: Counter({0: 83}), 17: Counter({0: 74}), 19: Counter({0: 59}), 22: Counter({0: 21}), 27: Counter({0: 23}), 28: Counter({0: 2})}), 'meteor': defaultdict(<class 'collections.Counter'>, {15: Counter({0: 93}), 18: Counter({0: 65}), 2: Counter({0: 189, -1: 24, 1: 19}), 19: Counter({0: 47}), 4: Counter({0: 193, -1: 15, 1: 10}), 1: Counter({0: 123, 1: 10, -1: 1}), 22: Counter({0: 44}), 6: Counter({0: 175, 1: 15, -1: 6}), 0: Counter({0: 56}), 17: Counter({0: 57}), 21: Counter({0: 42}), 14: Counter({0: 84}), 16: Counter({0: 79}), 13: Counter({0: 104}), 20: Counter({0: 51}), 3: Counter({0: 206, -1: 21, 1: 13}), 11: Counter({0: 122}), 5: Counter({0: 174, 1: 18, -1: 8}), 9: Counter({0: 161, 1: 5}), 12: Counter({0: 120}), 7: Counter({0: 177, 1: 15, -1: 2}), 10: Counter({0: 152}), 'NS': Counter({2: 279, 0: 63}), 8: Counter({0: 154, 1: 14}), 23: Counter({0: 34}), 24: Counter({0: 35}), 25: Counter({0: 27}), 26: Counter({0: 19})}), 'ruby': defaultdict(<class 'collections.Counter'>, {'NS': Counter({2: 401, 0: 67}), 2: Counter({0: 233, -1: 53, 1: 2}), 1: Counter({0: 145, -1: 8, 1: 5}), 14: Counter({0: 88}), 13: Counter({0: 110}), 11: Counter({0: 111}), 0: Counter({0: 65}), 3: Counter({0: 215, -1: 49, 1: 18}), 10: Counter({0: 136}), 4: Counter({0: 192, 1: 42, -1: 15}), 9: Counter({0: 146}), 7: Counter({0: 188, 1: 1}), 5: Counter({0: 202, 1: 29, -1: 2}), 6: Counter({0: 206, 1: 18}), 8: Counter({0: 171}), 15: Counter({0: 88}), 16: Counter({0: 64}), 17: Counter({0: 56}), 12: Counter({0: 105}), 18: Counter({0: 43}), 19: Counter({0: 32}), 20: Counter({0: 15})}), 'bleu': defaultdict(<class 'collections.Counter'>, {16: Counter({0: 74}), 18: Counter({0: 59}), 2: Counter({0: 192, -1: 30, 1: 10}), 20: Counter({0: 58}), 4: Counter({0: 200, 1: 21, -1: 12}), 1: Counter({0: 118, 1: 8, -1: 1}), 'NS': Counter({2: 373, 0: 59}), 0: Counter({0: 57}), 15: Counter({0: 64}), 14: Counter({0: 92}), 17: Counter({0: 54}), 19: Counter({0: 60}), 13: Counter({0: 81}), 3: Counter({0: 220, -1: 27, 1: 19}), 12: Counter({0: 110}), 5: Counter({0: 200, -1: 18, 1: 11}), 10: Counter({0: 141, 1: 3}), 7: Counter({0: 158, -1: 13, 1: 13}), 8: Counter({0: 134, 1: 15}), 11: Counter({0: 104}), 6: Counter({0: 165, -1: 8, 1: 2}), 9: Counter({0: 143, 1: 21}), 21: Counter({0: 56}), 22: Counter({0: 34}), 23: Counter({0: 33}), 24: Counter({0: 27}), 25: Counter({0: 23})})}\n",
      "\n",
      "Bins aggregated:\n",
      "{'rougel': defaultdict(<class 'collections.Counter'>, {'NS': Counter({2: 208, 0: 87}), 0: Counter({0: 237, 1: 8, -1: 7, 2: 0}), 2: Counter({0: 658, 1: 52, -1: 37, 2: 0}), 5: Counter({0: 977, 1: 35, -1: 3, 2: 0}), 10: Counter({0: 1012, -1: 0, 1: 0, 2: 0})}), 'codebleu': defaultdict(<class 'collections.Counter'>, {'NS': Counter({2: 389, 0: 97}), 0: Counter({0: 360, 1: 11, -1: 10, 2: 0}), 2: Counter({0: 817, -1: 47, 1: 35, 2: 0}), 5: Counter({0: 793, 1: 39, -1: 9, 2: 0}), 10: Counter({0: 714, -1: 0, 1: 0, 2: 0})}), 'chrf': defaultdict(<class 'collections.Counter'>, {'NS': Counter({2: 145, 0: 73}), 0: Counter({0: 230, 1: 12, -1: 7, 2: 0}), 2: Counter({0: 530, 1: 72, -1: 30, 2: 0}), 5: Counter({0: 909, 1: 25, -1: 0, 2: 0}), 10: Counter({0: 1288, -1: 0, 1: 0, 2: 0})}), 'meteor': defaultdict(<class 'collections.Counter'>, {'NS': Counter({2: 279, 0: 63}), 0: Counter({0: 179, 1: 10, -1: 1, 2: 0}), 2: Counter({0: 588, -1: 60, 1: 42, 2: 0}), 5: Counter({0: 841, 1: 67, -1: 16, 2: 0}), 10: Counter({0: 1175, -1: 0, 1: 0, 2: 0})}), 'ruby': defaultdict(<class 'collections.Counter'>, {'NS': Counter({2: 401, 0: 67}), 0: Counter({0: 210, -1: 8, 1: 5, 2: 0}), 2: Counter({0: 640, -1: 117, 1: 62, 2: 0}), 5: Counter({0: 913, 1: 48, -1: 2, 2: 0}), 10: Counter({0: 848, -1: 0, 1: 0, 2: 0})}), 'bleu': defaultdict(<class 'collections.Counter'>, {'NS': Counter({2: 373, 0: 59}), 0: Counter({0: 175, 1: 8, -1: 1, 2: 0}), 2: Counter({0: 612, -1: 69, 1: 50, 2: 0}), 5: Counter({0: 800, 1: 62, -1: 39, 2: 0}), 10: Counter({0: 1070, 1: 3, -1: 0, 2: 0})})}\n",
      "\n",
      "Statistics:\n",
      "rougel 3321 0.10538994278831677\n",
      "codebleu 3321 0.16260162601626016\n",
      "chrf 3321 0.08762420957542909\n",
      "meteor 3321 0.14302920806985847\n",
      "ruby 3321 0.19361638060825054\n",
      "bleu 3321 0.18217404396266185\n",
      "\n",
      "Deviations:\n",
      "baseline grade 0.3580508474576271 -0.0656779661016949 0.07415254237288138\n",
      "baseline rougel 0.3647055084745763 -0.014254237288135574 0.014093220338983081\n",
      "baseline codebleu 0.31007838983050845 -0.01593220338983048 0.014968220338983096\n",
      "baseline chrf 0.17501271186440676 -0.011502118644067777 0.012788135593220396\n",
      "baseline meteor 0.28415889830508473 -0.015822033898305055 0.015779661016949165\n",
      "baseline ruby 0.43676906779661023 -0.01953177966101699 0.019461864406779605\n",
      "baseline bleu 0.12365503456769143 -0.014311754063247611 0.01575498263030921\n",
      "tranx-annot grade 1.0741525423728813 -0.1271186440677965 0.125\n",
      "tranx-annot rougel 0.4914088983050847 -0.01789406779661007 0.01587923728813556\n",
      "tranx-annot codebleu 0.3294830508474576 -0.014322033898305053 0.015199152542372918\n",
      "tranx-annot chrf 0.2822796610169492 -0.015944915254237302 0.014855932203389766\n",
      "tranx-annot meteor 0.43892161016949155 -0.021135593220339033 0.022349576271186333\n",
      "tranx-annot ruby 0.4346207627118644 -0.020135593220338976 0.01763347457627118\n",
      "tranx-annot bleu 0.2839996178852815 -0.03121827137078964 0.02971885427905624\n",
      "best-tranx grade 1.4279661016949152 -0.14194915254237284 0.12711864406779672\n",
      "best-tranx rougel 0.514343220338983 -0.017635593220338974 0.016961864406779603\n",
      "best-tranx codebleu 0.3404936440677966 -0.015749999999999986 0.015915254237288123\n",
      "best-tranx chrf 0.31084533898305083 -0.017811440677966084 0.01859533898305088\n",
      "best-tranx meteor 0.4654851694915254 -0.022599576271186417 0.021896186440677978\n",
      "best-tranx ruby 0.449125 -0.019463983050847455 0.01996186440677966\n",
      "best-tranx bleu 0.313338671258212 -0.03028284946175247 0.031031739214563037\n",
      "best-tranx-rerank grade 1.603813559322034 -0.13135593220338992 0.14618644067796605\n",
      "best-tranx-rerank rougel 0.5278347457627118 -0.01750423728813555 0.017970338983050893\n",
      "best-tranx-rerank codebleu 0.34285805084745763 -0.016275423728813576 0.017086864406779645\n",
      "best-tranx-rerank chrf 0.3254131355932203 -0.017915254237288125 0.019896186440677976\n",
      "best-tranx-rerank meteor 0.48245762711864404 -0.023364406779661007 0.023230932203389898\n",
      "best-tranx-rerank ruby 0.4637012711864407 -0.01850211864406781 0.020699152542372812\n",
      "best-tranx-rerank bleu 0.32984563044375553 -0.02904501387427727 0.028542279719670716\n",
      "codex grade 2.4004237288135593 -0.1313559322033897 0.13983050847457612\n",
      "codex rougel 0.5643347457627118 -0.021150423728813372 0.019961864406779717\n",
      "codex codebleu 0.4655805084745763 -0.024262711864406816 0.02475211864406779\n",
      "codex chrf 0.42736864406779657 -0.02230508474576265 0.024050847457627145\n",
      "codex meteor 0.505864406779661 -0.023614406779661035 0.024372881355932186\n",
      "codex ruby 0.5794046610169491 -0.020305084745762536 0.0199088983050848\n",
      "codex bleu 0.330996580265586 -0.033269605239089894 0.03019107338837468\n",
      "baseline grade 8.951271186440678 -1.6419491525423726 1.8538135593220346\n",
      "tranx-annot grade 26.85381355932203 -3.1779661016949126 3.125\n",
      "best-tranx grade 35.69915254237288 -3.548728813559321 3.177966101694918\n",
      "best-tranx-rerank grade 40.09533898305085 -3.2838983050847483 3.6546610169491514\n",
      "codex grade 60.01059322033898 -3.2838983050847426 3.495762711864403\n"
     ]
    }
   ],
   "source": [
    "conala_grades = json.load(open(\"data/to-grade/conala/conala-all-grades.json\"))\n",
    "synthesize_models(conala_grades, conala_models, metrics)\n",
    "all_models_list = clean_models(conala_grades, metrics)\n",
    "model_scores, model_pairs = run_bootstrap(conala_grades, metrics, all_models_list, conala_models, \"conala\")\n",
    "get_splitting(model_scores, model_pairs, metrics, all_models_list, conala_models)"
   ],
   "metadata": {
    "collapsed": false
   }
  },
  {
   "cell_type": "code",
   "execution_count": 10,
   "outputs": [
    {
     "data": {
      "text/plain": "  0%|          | 0/2 [00:00<?, ?it/s]",
      "application/vnd.jupyter.widget-view+json": {
       "version_major": 2,
       "version_minor": 0,
       "model_id": "b41356d122e844ceb5f1029f1f867185"
      }
     },
     "metadata": {},
     "output_type": "display_data"
    },
    {
     "name": "stdout",
     "output_type": "stream",
     "text": [
      "Failed to generate enough changed snippets. 1 new snippets are lacking.\n",
      "Failed to generate enough changed snippets. 3 new snippets are lacking.\n",
      "Failed to generate enough changed snippets. 7 new snippets are lacking.\n",
      "Failed to generate enough changed snippets. 3 new snippets are lacking.\n",
      "Failed to generate enough changed snippets. 7 new snippets are lacking.\n",
      "Failed to generate enough changed snippets. 1 new snippets are lacking.\n",
      "['gcnn', 'nl2code', 'gcnn_1_1', 'gcnn_3_1', 'gcnn_5_1', 'gcnn_10_1', 'gcnn_15_1', 'gcnn_20_1', 'gcnn_25_1', 'gcnn_30_1', 'gcnn_1_0', 'gcnn_3_0', 'gcnn_5_0', 'gcnn_10_0', 'gcnn_15_0', 'gcnn_20_0', 'gcnn_25_0', 'gcnn_30_0', 'nl2code_1_1', 'nl2code_3_1', 'nl2code_5_1', 'nl2code_10_1', 'nl2code_15_1', 'nl2code_20_1', 'nl2code_25_1', 'nl2code_30_1', 'nl2code_1_0', 'nl2code_3_0', 'nl2code_5_0', 'nl2code_10_0', 'nl2code_15_0', 'nl2code_20_0', 'nl2code_25_0', 'nl2code_30_0']\n",
      "gcnn_20_0\n",
      "gcnn_20_0\n",
      "gcnn_25_0\n",
      "nl2code_20_1\n",
      "nl2code_20_1\n",
      "nl2code_25_1\n"
     ]
    },
    {
     "name": "stderr",
     "output_type": "stream",
     "text": [
      "100%|██████████| 500/500 [04:48<00:00,  1.73it/s]\n"
     ]
    },
    {
     "name": "stdout",
     "output_type": "stream",
     "text": [
      "nl2code gcnn {'grade': 0.844, 'rougel': 0.946, 'codebleu': 0.66, 'chrf': 0.444, 'meteor': 0.998, 'ruby': 0.836, 'bleu': 0.998}\n",
      "Significance splitting:\n",
      "{'rougel': {'0-2': [109, 183], '2-5': [143, 0], '5-10': [0, 0], '10-100': [0, 0]}, 'codebleu': {'0-2': [61, 347], '2-5': [13, 14], '5-10': [0, 0], '10-100': [0, 0]}, 'chrf': {'0-2': [169, 167], '2-5': [99, 0], '5-10': [0, 0], '10-100': [0, 0]}, 'meteor': {'0-2': [46, 177], '2-5': [203, 9], '5-10': [0, 0], '10-100': [0, 0]}, 'ruby': {'0-2': [91, 252], '2-5': [89, 3], '5-10': [0, 0], '10-100': [0, 0]}, 'bleu': {'0-2': [42, 144], '2-5': [153, 19], '5-10': [77, 0], '10-100': [0, 0]}}\n",
      "\n",
      "Bins distribution:\n",
      "{'rougel': defaultdict(<class 'collections.Counter'>, {'NS': Counter({2: 98, 0: 85}), 0: Counter({0: 49, 1: 1}), 1: Counter({0: 57, 1: 2}), 2: Counter({0: 115, 1: 1}), 3: Counter({0: 27})}), 'codebleu': defaultdict(<class 'collections.Counter'>, {'NS': Counter({2: 273, 0: 88}), 0: Counter({0: 22, -1: 4, 1: 1}), 1: Counter({0: 34}), 2: Counter({0: 9}), 3: Counter({0: 4})}), 'chrf': defaultdict(<class 'collections.Counter'>, {'NS': Counter({2: 95, 0: 72}), 0: Counter({0: 69, 1: 1}), 1: Counter({0: 81, 1: 16, -1: 2}), 2: Counter({0: 76}), 3: Counter({0: 17}), 4: Counter({0: 6})}), 'meteor': defaultdict(<class 'collections.Counter'>, {4: Counter({0: 35, 1: 13}), 'NS': Counter({2: 144, 0: 42}), 3: Counter({0: 75, 1: 22}), 0: Counter({0: 22, 1: 1, -1: 1}), 2: Counter({0: 49, 1: 9}), 1: Counter({0: 20, 1: 2})}), 'ruby': defaultdict(<class 'collections.Counter'>, {'NS': Counter({2: 167, 0: 88}), 0: Counter({0: 28, 1: 1}), 1: Counter({0: 62}), 2: Counter({0: 85}), 3: Counter({0: 4})}), 'bleu': defaultdict(<class 'collections.Counter'>, {5: Counter({0: 56, 1: 21}), 'NS': Counter({2: 137, 0: 26}), 0: Counter({0: 25, 1: 1}), 4: Counter({0: 37, 1: 16}), 2: Counter({0: 35, 1: 12}), 3: Counter({0: 40, 1: 13}), 1: Counter({0: 16})})}\n",
      "\n",
      "Bins aggregated:\n",
      "{'rougel': defaultdict(<class 'collections.Counter'>, {'NS': Counter({2: 98, 0: 85}), 0: Counter({0: 106, 1: 3, -1: 0, 2: 0}), 2: Counter({0: 142, 1: 1, -1: 0, 2: 0}), 5: Counter({-1: 0, 0: 0, 1: 0, 2: 0}), 10: Counter({-1: 0, 0: 0, 1: 0, 2: 0})}), 'codebleu': defaultdict(<class 'collections.Counter'>, {'NS': Counter({2: 273, 0: 88}), 0: Counter({0: 56, -1: 4, 1: 1, 2: 0}), 2: Counter({0: 13, -1: 0, 1: 0, 2: 0}), 5: Counter({-1: 0, 0: 0, 1: 0, 2: 0}), 10: Counter({-1: 0, 0: 0, 1: 0, 2: 0})}), 'chrf': defaultdict(<class 'collections.Counter'>, {'NS': Counter({2: 95, 0: 72}), 0: Counter({0: 150, 1: 17, -1: 2, 2: 0}), 2: Counter({0: 99, -1: 0, 1: 0, 2: 0}), 5: Counter({-1: 0, 0: 0, 1: 0, 2: 0}), 10: Counter({-1: 0, 0: 0, 1: 0, 2: 0})}), 'meteor': defaultdict(<class 'collections.Counter'>, {'NS': Counter({2: 144, 0: 42}), 0: Counter({0: 42, 1: 3, -1: 1, 2: 0}), 2: Counter({0: 159, 1: 44, -1: 0, 2: 0}), 5: Counter({-1: 0, 0: 0, 1: 0, 2: 0}), 10: Counter({-1: 0, 0: 0, 1: 0, 2: 0})}), 'ruby': defaultdict(<class 'collections.Counter'>, {'NS': Counter({2: 167, 0: 88}), 0: Counter({0: 90, 1: 1, -1: 0, 2: 0}), 2: Counter({0: 89, -1: 0, 1: 0, 2: 0}), 5: Counter({-1: 0, 0: 0, 1: 0, 2: 0}), 10: Counter({-1: 0, 0: 0, 1: 0, 2: 0})}), 'bleu': defaultdict(<class 'collections.Counter'>, {'NS': Counter({2: 137, 0: 26}), 0: Counter({0: 41, 1: 1, -1: 0, 2: 0}), 2: Counter({0: 112, 1: 41, -1: 0, 2: 0}), 5: Counter({0: 56, 1: 21, -1: 0, 2: 0}), 10: Counter({-1: 0, 0: 0, 1: 0, 2: 0})})}\n",
      "\n",
      "Statistics:\n",
      "rougel 435 0.23448275862068965\n",
      "codebleu 435 0.639080459770115\n",
      "chrf 435 0.2620689655172414\n",
      "meteor 435 0.4413793103448276\n",
      "ruby 435 0.38620689655172413\n",
      "bleu 435 0.45977011494252873\n",
      "\n",
      "Deviations:\n",
      "gcnn grade 2.6363636363636362 -0.2727272727272725 0.22727272727272751\n",
      "gcnn rougel 0.8466969696969696 -0.0321969696969695 0.03316666666666668\n",
      "gcnn codebleu 0.7183181818181819 -0.05900000000000005 0.05496969696969678\n",
      "gcnn chrf 0.8074545454545454 -0.040863636363636435 0.039181818181818207\n",
      "gcnn meteor 0.7537575757575758 -0.057666666666666755 0.05168181818181805\n",
      "gcnn ruby 0.8356818181818182 -0.03842424242424247 0.03807575757575754\n",
      "gcnn bleu 0.6915939247444682 -0.06214778005212829 0.06684293565014154\n",
      "nl2code grade 2.727272727272727 -0.22727272727272707 0.22727272727272751\n",
      "nl2code rougel 0.8659242424242425 -0.029166666666666785 0.02742424242424235\n",
      "nl2code codebleu 0.7233787878787881 -0.051257575757575835 0.050484848484848355\n",
      "nl2code chrf 0.8072424242424243 -0.035318181818182026 0.03593939393939394\n",
      "nl2code meteor 0.7971818181818181 -0.04986363636363633 0.05159090909090913\n",
      "nl2code ruby 0.8500909090909091 -0.0330454545454546 0.03134848484848474\n",
      "nl2code bleu 0.7473053320485536 -0.060709177231152434 0.056722010406529355\n",
      "gcnn grade 65.9090909090909 -6.818181818181812 5.681818181818188\n",
      "nl2code grade 68.18181818181817 -5.681818181818176 5.681818181818188\n"
     ]
    }
   ],
   "source": [
    "hs_grades = json.load(open(\"data/to-grade/hs/hs-all-grades.json\"))\n",
    "synthesize_models(hs_grades, hs_models, metrics)\n",
    "all_models_list = clean_models(hs_grades, metrics)\n",
    "model_scores, model_pairs = run_bootstrap(hs_grades, metrics, all_models_list, hs_models, \"hs\")\n",
    "get_splitting(model_scores, model_pairs, metrics, all_models_list, hs_models)"
   ],
   "metadata": {
    "collapsed": false
   }
  },
  {
   "cell_type": "code",
   "execution_count": null,
   "outputs": [],
   "source": [],
   "metadata": {
    "collapsed": false
   }
  }
 ],
 "metadata": {
  "kernelspec": {
   "display_name": "Python 3",
   "language": "python",
   "name": "python3"
  },
  "language_info": {
   "codemirror_mode": {
    "name": "ipython",
    "version": 2
   },
   "file_extension": ".py",
   "mimetype": "text/x-python",
   "name": "python",
   "nbconvert_exporter": "python",
   "pygments_lexer": "ipython2",
   "version": "2.7.6"
  }
 },
 "nbformat": 4,
 "nbformat_minor": 0
}
