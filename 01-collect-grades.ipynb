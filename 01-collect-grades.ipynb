{
 "cells": [
  {
   "cell_type": "code",
   "execution_count": 1,
   "metadata": {
    "collapsed": true
   },
   "outputs": [],
   "source": [
    "%load_ext autoreload\n",
    "%autoreload 2"
   ]
  },
  {
   "cell_type": "code",
   "execution_count": 2,
   "outputs": [],
   "source": [
    "from os import listdir\n",
    "from os.path import isfile\n",
    "import json\n",
    "from pathlib import Path\n",
    "import random\n",
    "from collections import Counter\n",
    "import numpy as np\n",
    "import matplotlib.pyplot as plt\n",
    "from crowdkit.aggregation import MMSR\n",
    "import pandas as pd"
   ],
   "metadata": {
    "collapsed": false
   }
  },
  {
   "cell_type": "code",
   "execution_count": 3,
   "outputs": [],
   "source": [
    "data_dir = Path(\"data\")\n",
    "grading_data_dir = data_dir / \"to-grade\""
   ],
   "metadata": {
    "collapsed": false
   }
  },
  {
   "cell_type": "markdown",
   "source": [
    "## Collect grades"
   ],
   "metadata": {
    "collapsed": false
   }
  },
  {
   "cell_type": "code",
   "execution_count": 4,
   "outputs": [],
   "source": [
    "conala_model_list = ['grade-tranx-annot', 'grade-snippet', 'grade-best-tranx', 'grade-best-tranx-rerank', 'grade-baseline', 'grade-codex']\n",
    "hs_model_list = [\"grade-gcnn\", \"grade-nl2code\"]"
   ],
   "metadata": {
    "collapsed": false
   }
  },
  {
   "cell_type": "code",
   "execution_count": 5,
   "outputs": [],
   "source": [
    "def collect_grades(dataset_name, models_list):\n",
    "    dataset_dir = grading_data_dir / dataset_name\n",
    "    grade_files = [\n",
    "        f\n",
    "        for f in listdir(dataset_dir)\n",
    "        if isfile(dataset_dir / f) and f.startswith(\"grader\")\n",
    "    ]\n",
    "\n",
    "    all_grades = json.load(open(dataset_dir / f\"{dataset_name}.json\"))\n",
    "\n",
    "    for file_name in grade_files:\n",
    "        assessor_name = file_name.split('.')[0]\n",
    "        grades = json.load(open(dataset_dir / file_name))\n",
    "\n",
    "        for i, item in enumerate(grades):\n",
    "            for model in models_list:\n",
    "                current_grade = item.get(model)\n",
    "                if current_grade is not None:\n",
    "                    if all_grades[i].get(model) is None:\n",
    "                        all_grades[i][model] = dict()\n",
    "                    if current_grade > -1:\n",
    "                        all_grades[i][model][assessor_name] = current_grade\n",
    "\n",
    "    with open(dataset_dir / f\"{dataset_name}-human-grades.json\", 'w') as o:\n",
    "        json.dump(all_grades, o)"
   ],
   "metadata": {
    "collapsed": false
   }
  },
  {
   "cell_type": "code",
   "execution_count": 6,
   "outputs": [],
   "source": [
    "collect_grades(\"conala\", conala_model_list)"
   ],
   "metadata": {
    "collapsed": false
   }
  },
  {
   "cell_type": "code",
   "execution_count": 7,
   "outputs": [],
   "source": [
    "collect_grades(\"hs\", hs_model_list)"
   ],
   "metadata": {
    "collapsed": false
   }
  },
  {
   "cell_type": "code",
   "execution_count": 8,
   "outputs": [],
   "source": [
    "def myround(a, b): # for averaging grades\n",
    "    if random.randint(1,2) == 1:\n",
    "        return int(round((a+b-0.001)/2,0))\n",
    "    else:\n",
    "        return int(round((a+b+0.001)/2,0))"
   ],
   "metadata": {
    "collapsed": false
   }
  },
  {
   "cell_type": "code",
   "execution_count": 9,
   "outputs": [],
   "source": [
    "def clean_grades(dataset_name, models_list):\n",
    "    dataset_dir = grading_data_dir / dataset_name\n",
    "    grades = json.load(open(dataset_dir / f\"{dataset_name}-human-grades.json\"))\n",
    "\n",
    "    to_remove = []\n",
    "    for i, d1 in enumerate(grades):\n",
    "\n",
    "        if isinstance(d1['snippet'], str):\n",
    "            d1['snippet'] = [d1['snippet']]\n",
    "\n",
    "        for j, d2 in enumerate(grades):\n",
    "            if i < j and d1['intent'] == d2['intent']:\n",
    "                to_remove.append(j)\n",
    "                d1['snippet'].append(d2['snippet'])\n",
    "                for model_grade in models_list:\n",
    "                    for key in d2[model_grade]:\n",
    "                        if d1[model_grade].get(key) is None:\n",
    "                            d1[model_grade][key] = d2[model_grade][key]\n",
    "                        else:\n",
    "                            d1[model_grade][key] = myround(d1[model_grade][key], d2[model_grade][key])\n",
    "\n",
    "    clean_grades = [grades[j] for j in range(len(grades)) if j not in to_remove]\n",
    "\n",
    "    with open(dataset_dir / f\"{dataset_name}-human-grades.json\", 'w') as o:\n",
    "        json.dump(clean_grades, o)\n",
    "\n",
    "    return clean_grades"
   ],
   "metadata": {
    "collapsed": false
   }
  },
  {
   "cell_type": "code",
   "execution_count": 10,
   "outputs": [],
   "source": [
    "conala_grades = clean_grades(\"conala\", conala_model_list)"
   ],
   "metadata": {
    "collapsed": false
   }
  },
  {
   "cell_type": "code",
   "execution_count": 11,
   "outputs": [
    {
     "data": {
      "text/plain": "472"
     },
     "execution_count": 11,
     "metadata": {},
     "output_type": "execute_result"
    }
   ],
   "source": [
    "len(conala_grades)"
   ],
   "metadata": {
    "collapsed": false
   }
  },
  {
   "cell_type": "code",
   "execution_count": 12,
   "outputs": [
    {
     "name": "stdout",
     "output_type": "stream",
     "text": [
      "Counter({4: 998, 5: 502, 3: 402, 6: 364, 7: 57, 8: 27, 9: 5, 10: 5})\n"
     ]
    }
   ],
   "source": [
    "cnt = Counter()\n",
    "\n",
    "for item in conala_grades:\n",
    "    for grade in conala_model_list:\n",
    "        if grade != \"grade-snippet\":\n",
    "            cnt[len(item[grade])] += 1\n",
    "\n",
    "print(cnt)"
   ],
   "metadata": {
    "collapsed": false
   }
  },
  {
   "cell_type": "code",
   "execution_count": 13,
   "outputs": [
    {
     "name": "stdout",
     "output_type": "stream",
     "text": [
      "4.492372881355933\n"
     ]
    }
   ],
   "source": [
    "total_labels = 0\n",
    "for (key, value) in cnt.items():\n",
    "    total_labels += key * value\n",
    "\n",
    "print(total_labels / (len(conala_model_list) - 1) / len(conala_grades))"
   ],
   "metadata": {
    "collapsed": false
   }
  },
  {
   "cell_type": "code",
   "execution_count": 14,
   "outputs": [
    {
     "data": {
      "text/plain": "<Figure size 640x480 with 1 Axes>",
      "image/png": "[encoded data removed]"
     },
     "metadata": {},
     "output_type": "display_data"
    }
   ],
   "source": [
    "labels, values = zip(*sorted(cnt.items()))\n",
    "\n",
    "indexes = np.arange(len(labels))\n",
    "width = 1\n",
    "\n",
    "plt.bar(indexes, values, width)\n",
    "plt.xticks(indexes , labels)\n",
    "plt.xlabel('Number of graders graded')\n",
    "plt.ylabel('Number of snippets')\n",
    "plt.savefig(\"data/plots/graders-distrib.pdf\")\n",
    "plt.show()"
   ],
   "metadata": {
    "collapsed": false
   }
  },
  {
   "cell_type": "markdown",
   "source": [
    "## Aggregate Conala grades"
   ],
   "metadata": {
    "collapsed": false
   }
  },
  {
   "cell_type": "code",
   "execution_count": 15,
   "outputs": [],
   "source": [
    "conala_grades = json.load(open(grading_data_dir / \"conala\" / \"conala-human-grades.json\"))"
   ],
   "metadata": {
    "collapsed": false
   }
  },
  {
   "cell_type": "code",
   "execution_count": 16,
   "outputs": [],
   "source": [
    "models = ['grade-baseline', 'grade-tranx-annot', 'grade-best-tranx', 'grade-best-tranx-rerank', 'grade-codex']\n",
    "row_list = []\n",
    "for i, sample in enumerate(conala_grades):\n",
    "    for j, model in enumerate(models):\n",
    "        task_number = i + j * len(conala_grades)\n",
    "        for grader, grade in sample[model].items():\n",
    "            a = {\n",
    "                \"worker\": grader,\n",
    "                \"task\": task_number,\n",
    "                \"label\": grade\n",
    "            }\n",
    "            row_list.append(a)\n",
    "\n",
    "grades_df = pd.DataFrame(row_list, columns=[\"worker\", \"task\", \"label\"])"
   ],
   "metadata": {
    "collapsed": false
   }
  },
  {
   "cell_type": "code",
   "execution_count": 17,
   "outputs": [],
   "source": [
    "agg_mmsr = MMSR().fit_predict(grades_df)\n",
    "golden_truth = agg_mmsr.tolist()\n",
    "\n",
    "for i, grade in enumerate(golden_truth):\n",
    "    quest = i % len(conala_grades)\n",
    "    model = i // len(conala_grades)\n",
    "    conala_grades[quest][models[model]] = grade"
   ],
   "metadata": {
    "collapsed": false
   }
  },
  {
   "cell_type": "code",
   "execution_count": 18,
   "outputs": [],
   "source": [
    "json.dump(conala_grades, open(grading_data_dir / \"conala\" / \"conala-aggregated-grades.json\", \"w\"))"
   ],
   "metadata": {
    "collapsed": false
   }
  },
  {
   "cell_type": "markdown",
   "source": [
    "## Aggregate Hearthstone grades"
   ],
   "metadata": {
    "collapsed": false
   }
  },
  {
   "cell_type": "code",
   "execution_count": 19,
   "outputs": [],
   "source": [
    "hs_grades = json.load(open(grading_data_dir / \"hs\" / \"hs-human-grades.json\"))"
   ],
   "metadata": {
    "collapsed": false
   }
  },
  {
   "cell_type": "code",
   "execution_count": 20,
   "outputs": [],
   "source": [
    "for item in hs_grades:\n",
    "    item['snippet'] = [item['snippet']]\n",
    "    item['nl2code'] = item['nl2code'].rstrip()"
   ],
   "metadata": {
    "collapsed": false
   }
  },
  {
   "cell_type": "code",
   "execution_count": 21,
   "outputs": [],
   "source": [
    "models = ['grade-gcnn', 'grade-nl2code']\n",
    "row_list = []\n",
    "for i, sample in enumerate(hs_grades):\n",
    "    for j, model in enumerate(models):\n",
    "        task_number = i + j * len(hs_grades)\n",
    "        for grader, grade in sample[model].items():\n",
    "            a = {\n",
    "                \"worker\": grader,\n",
    "                \"task\": task_number,\n",
    "                \"label\": grade\n",
    "            }\n",
    "            row_list.append(a)\n",
    "\n",
    "grades_df = pd.DataFrame(row_list, columns=[\"worker\", \"task\", \"label\"])"
   ],
   "metadata": {
    "collapsed": false
   }
  },
  {
   "cell_type": "code",
   "execution_count": 22,
   "outputs": [],
   "source": [
    "agg_mmsr = MMSR().fit_predict(grades_df)\n",
    "golden_truth = agg_mmsr.tolist()\n",
    "\n",
    "for i, grade in enumerate(golden_truth):\n",
    "    quest = i % len(hs_grades)\n",
    "    model = i // len(hs_grades)\n",
    "    hs_grades[quest][models[model]] = grade"
   ],
   "metadata": {
    "collapsed": false
   }
  },
  {
   "cell_type": "code",
   "execution_count": 23,
   "outputs": [],
   "source": [
    "json.dump(hs_grades, open(grading_data_dir / \"hs\" / \"hs-aggregated-grades.json\", \"w\"))"
   ],
   "metadata": {
    "collapsed": false
   }
  },
  {
   "cell_type": "code",
   "execution_count": 23,
   "outputs": [],
   "source": [],
   "metadata": {
    "collapsed": false
   }
  }
 ],
 "metadata": {
  "kernelspec": {
   "display_name": "Python 3",
   "language": "python",
   "name": "python3"
  },
  "language_info": {
   "codemirror_mode": {
    "name": "ipython",
    "version": 2
   },
   "file_extension": ".py",
   "mimetype": "text/x-python",
   "name": "python",
   "nbconvert_exporter": "python",
   "pygments_lexer": "ipython2",
   "version": "2.7.6"
  }
 },
 "nbformat": 4,
 "nbformat_minor": 0
}
